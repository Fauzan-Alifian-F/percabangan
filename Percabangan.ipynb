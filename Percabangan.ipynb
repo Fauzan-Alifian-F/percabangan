{
 "cells": [
  {
   "cell_type": "code",
   "execution_count": 5,
   "id": "39bbd06d-a7e3-468e-9240-207a3eb62636",
   "metadata": {},
   "outputs": [
    {
     "name": "stdin",
     "output_type": "stream",
     "text": [
      "Isikan nilai: 7\n"
     ]
    },
    {
     "name": "stdout",
     "output_type": "stream",
     "text": [
      "7 adalah bilangan ganjil\n",
      "Program Selesai\n"
     ]
    }
   ],
   "source": [
    "#Menentukan ganjil genap\n",
    "nilai = int(input('Isikan nilai:'))\n",
    "sisa_bagi = nilai % 2 \n",
    "\n",
    "if sisa_bagi==0:\n",
    "    print(f'{nilai} adalah bilangan genap')\n",
    "else:\n",
    "    print(f'{nilai} adalah bilangan ganjil')\n",
    "\n",
    "print('Program Selesai')"
   ]
  },
  {
   "cell_type": "code",
   "execution_count": 9,
   "id": "739ac1b7-13a2-42e1-a37c-1c29f7e3d3b3",
   "metadata": {},
   "outputs": [
    {
     "name": "stdin",
     "output_type": "stream",
     "text": [
      "Isikan Nilai Pemograman: -1\n"
     ]
    },
    {
     "name": "stdout",
     "output_type": "stream",
     "text": [
      "E\n"
     ]
    }
   ],
   "source": [
    "# 0 - 49  => E\n",
    "# 50 - 59 => D\n",
    "# 60 - 69 => C\n",
    "# 70 - 84 => B\n",
    "# 85 - 100 => A\n",
    "\n",
    "nilai_program = int(input('Isikan Nilai Pemograman:'))\n",
    "\n",
    "if nilai_program <50:\n",
    "    print(\"E\")\n",
    "elif nilai_program <60:\n",
    "    print(\"D\")\n",
    "elif nilai_program <70:\n",
    "    print(\"C\")\n",
    "elif nilai_program <85:\n",
    "    print(\"B\")\n",
    "elif nilai_program <=100:\n",
    "    print (\"A\")\n",
    "else:\n",
    "    print(\"Input anda Salah\")"
   ]
  },
  {
   "cell_type": "code",
   "execution_count": 33,
   "id": "1f0936a2-c492-4d87-9455-70078fbf15ad",
   "metadata": {},
   "outputs": [
    {
     "name": "stdin",
     "output_type": "stream",
     "text": [
      "Isikan Nilai Pemograman: 457\n"
     ]
    },
    {
     "name": "stdout",
     "output_type": "stream",
     "text": [
      "Nilai Anda Salah\n",
      "Input anda salah\n"
     ]
    }
   ],
   "source": [
    "# 0 - 49  => E\n",
    "# 50 - 59 => D\n",
    "# 60 - 69 => C\n",
    "# 70 - 84 => B\n",
    "# 85 - 100 => A\n",
    "\n",
    "nilai_program = int(input('Isikan Nilai Pemograman:'))\n",
    "if nilai_program < 0 or nilai_program > 100:\n",
    "    print(\"Nilai Anda Salah\")    \n",
    "if nilai_program <50:\n",
    "    print(\"E\")\n",
    "elif nilai_program <60:\n",
    "    print(\"D\")\n",
    "elif nilai_program <70:\n",
    "    print(\"C\")\n",
    "elif nilai_program <85:\n",
    "    print(\"B\")\n",
    "elif nilai_program <=100:\n",
    "    print (\"A\")\n",
    "else:\n",
    "    print(\"Input anda salah\")\n",
    "\n"
   ]
  },
  {
   "cell_type": "code",
   "execution_count": null,
   "id": "bcc95fb2-8f7d-4aa9-96b6-6324667d41e0",
   "metadata": {},
   "outputs": [],
   "source": []
  },
  {
   "cell_type": "code",
   "execution_count": 39,
   "id": "1afe46ce-d7f9-4562-aa28-e93aeaaa80ce",
   "metadata": {},
   "outputs": [
    {
     "name": "stdin",
     "output_type": "stream",
     "text": [
      "Isikan Username admin\n",
      "Isikan Password admin\n"
     ]
    },
    {
     "name": "stdout",
     "output_type": "stream",
     "text": [
      "Selamat datang admin\n"
     ]
    }
   ],
   "source": [
    "username = input('Isikan Username')\n",
    "password = input('Isikan Password')\n",
    "\n",
    "# jika username salah => Username anda salah \n",
    "# jika password salah => password anda salah\n",
    "# jika keduanya salah => Username dan password anda salah\n",
    "# jika keduanya benar => Selamat datang {username}\n",
    "# username: admin\n",
    "# password: admin\n",
    "\n",
    "if username == 'admin':\n",
    "    if password== 'admin':\n",
    "        print(f'Selamat datang {username}')\n",
    "    else:\n",
    "        print(f'Password anda Salah')\n",
    "else:\n",
    "    if password == 'admin':\n",
    "        print(\"username anda salah\")\n",
    "    else:\n",
    "        print(\"Username dan Password anda salah\")\n",
    "    "
   ]
  },
  {
   "cell_type": "code",
   "execution_count": 63,
   "id": "2fad492e-4a27-4abc-bc2c-6c80c358ef3c",
   "metadata": {},
   "outputs": [
    {
     "name": "stdin",
     "output_type": "stream",
     "text": [
      "isikan nama yu\n",
      "isikan umur: 19\n",
      "isikan alamat California\n",
      "isikan tabungan 1\n"
     ]
    },
    {
     "name": "stdout",
     "output_type": "stream",
     "text": [
      "yu kemungkinan seorang anggota mafia dengan pangkat  \n"
     ]
    }
   ],
   "source": [
    "nama = input('isikan nama')\n",
    "umur = int (input('isikan umur:'))\n",
    "alamat = input ('isikan alamat')\n",
    "tabungan = int(input(\"isikan tabungan\"))\n",
    "\n",
    "\n",
    "pangkat = ' '\n",
    "if umur > 40 :\n",
    "        if alamat == 'Nevada' or alamat== 'New York' or alamat== 'Havana':\n",
    "            if tabungan > 10:\n",
    "                pangkat = 'Don'\n",
    "elif umur > 25 and umur <=40:\n",
    "    if alamat == 'New Jersey' or alamat=='Manhattan' or alamat== 'Nevada':\n",
    "        if tabungan  > 0 and tabungan <= 2:\n",
    "            pangkat = 'Underboss'\n",
    "elif umur >18 and umur <= 24:\n",
    "    if alamat =='California' or alamat =='Detroit' or alamat =='Boston':\n",
    "        if tabungan < 1:\n",
    "            pangkat = 'Capo'\n",
    "if pangkat != '':\n",
    "    print(f'{nama} kemungkinan seorang anggota mafia dengan pangkat {pangkat}')\n",
    "else:\n",
    "    print(f'{nama} tidak mencurigakan')\n",
    "\n",
    "    "
   ]
  },
  {
   "cell_type": "markdown",
   "id": "32ff56b9-95ab-467e-93d9-3b17677c2a61",
   "metadata": {},
   "source": []
  }
 ],
 "metadata": {
  "kernelspec": {
   "display_name": "Python 3 (ipykernel)",
   "language": "python",
   "name": "python3"
  },
  "language_info": {
   "codemirror_mode": {
    "name": "ipython",
    "version": 3
   },
   "file_extension": ".py",
   "mimetype": "text/x-python",
   "name": "python",
   "nbconvert_exporter": "python",
   "pygments_lexer": "ipython3",
   "version": "3.11.7"
  }
 },
 "nbformat": 4,
 "nbformat_minor": 5
}
